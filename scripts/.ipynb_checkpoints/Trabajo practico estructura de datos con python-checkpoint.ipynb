{
 "cells": [
  {
   "cell_type": "code",
   "execution_count": 22,
   "metadata": {},
   "outputs": [
    {
     "ename": "ValueError",
     "evalue": "math domain error",
     "output_type": "error",
     "traceback": [
      "\u001b[1;31m---------------------------------------------------------------------------\u001b[0m",
      "\u001b[1;31mValueError\u001b[0m                                Traceback (most recent call last)",
      "\u001b[1;32m<ipython-input-22-6fb6360bfe8d>\u001b[0m in \u001b[0;36m<module>\u001b[1;34m\u001b[0m\n\u001b[0;32m      4\u001b[0m     \u001b[1;33m-\u001b[0m\u001b[0mb\u001b[0m \u001b[1;33m+\u001b[0m\u001b[1;33m(\u001b[0m\u001b[0mmath\u001b[0m\u001b[1;33m.\u001b[0m\u001b[0msqrt\u001b[0m\u001b[1;33m(\u001b[0m\u001b[0mb\u001b[0m\u001b[1;33m**\u001b[0m\u001b[1;36m2\u001b[0m\u001b[1;33m-\u001b[0m\u001b[1;36m2\u001b[0m\u001b[1;33m*\u001b[0m\u001b[0ma\u001b[0m\u001b[1;33m*\u001b[0m\u001b[0mc\u001b[0m\u001b[1;33m)\u001b[0m\u001b[1;33m/\u001b[0m\u001b[1;36m2\u001b[0m\u001b[1;33m*\u001b[0m\u001b[0ma\u001b[0m\u001b[1;33m)\u001b[0m\u001b[1;33m\u001b[0m\u001b[1;33m\u001b[0m\u001b[0m\n\u001b[0;32m      5\u001b[0m \u001b[1;33m\u001b[0m\u001b[0m\n\u001b[1;32m----> 6\u001b[1;33m \u001b[0mprint\u001b[0m\u001b[1;33m(\u001b[0m\u001b[0mecuacion\u001b[0m\u001b[1;33m(\u001b[0m\u001b[1;36m3\u001b[0m\u001b[1;33m,\u001b[0m\u001b[1;36m3\u001b[0m\u001b[1;33m,\u001b[0m\u001b[1;36m3\u001b[0m\u001b[1;33m)\u001b[0m\u001b[1;33m)\u001b[0m\u001b[1;33m\u001b[0m\u001b[1;33m\u001b[0m\u001b[0m\n\u001b[0m",
      "\u001b[1;32m<ipython-input-22-6fb6360bfe8d>\u001b[0m in \u001b[0;36mecuacion\u001b[1;34m(a, b, c)\u001b[0m\n\u001b[0;32m      2\u001b[0m \u001b[1;32mdef\u001b[0m \u001b[0mecuacion\u001b[0m\u001b[1;33m(\u001b[0m\u001b[0ma\u001b[0m\u001b[1;33m,\u001b[0m\u001b[0mb\u001b[0m\u001b[1;33m,\u001b[0m\u001b[0mc\u001b[0m\u001b[1;33m)\u001b[0m\u001b[1;33m:\u001b[0m\u001b[1;33m\u001b[0m\u001b[1;33m\u001b[0m\u001b[0m\n\u001b[0;32m      3\u001b[0m \u001b[1;33m\u001b[0m\u001b[0m\n\u001b[1;32m----> 4\u001b[1;33m     \u001b[1;33m-\u001b[0m\u001b[0mb\u001b[0m \u001b[1;33m+\u001b[0m\u001b[1;33m(\u001b[0m\u001b[0mmath\u001b[0m\u001b[1;33m.\u001b[0m\u001b[0msqrt\u001b[0m\u001b[1;33m(\u001b[0m\u001b[0mb\u001b[0m\u001b[1;33m**\u001b[0m\u001b[1;36m2\u001b[0m\u001b[1;33m-\u001b[0m\u001b[1;36m2\u001b[0m\u001b[1;33m*\u001b[0m\u001b[0ma\u001b[0m\u001b[1;33m*\u001b[0m\u001b[0mc\u001b[0m\u001b[1;33m)\u001b[0m\u001b[1;33m/\u001b[0m\u001b[1;36m2\u001b[0m\u001b[1;33m*\u001b[0m\u001b[0ma\u001b[0m\u001b[1;33m)\u001b[0m\u001b[1;33m\u001b[0m\u001b[1;33m\u001b[0m\u001b[0m\n\u001b[0m\u001b[0;32m      5\u001b[0m \u001b[1;33m\u001b[0m\u001b[0m\n\u001b[0;32m      6\u001b[0m \u001b[0mprint\u001b[0m\u001b[1;33m(\u001b[0m\u001b[0mecuacion\u001b[0m\u001b[1;33m(\u001b[0m\u001b[1;36m3\u001b[0m\u001b[1;33m,\u001b[0m\u001b[1;36m3\u001b[0m\u001b[1;33m,\u001b[0m\u001b[1;36m3\u001b[0m\u001b[1;33m)\u001b[0m\u001b[1;33m)\u001b[0m\u001b[1;33m\u001b[0m\u001b[1;33m\u001b[0m\u001b[0m\n",
      "\u001b[1;31mValueError\u001b[0m: math domain error"
     ]
    }
   ],
   "source": [
    "import math\n",
    "def ecuacion(a,b,c):             \n",
    "\n",
    "    -b +(math.sqrt(b**2-2*a*c)/2*a)\n",
    "        \n",
    "print(ecuacion(3,3,3))\n"
   ]
  },
  {
   "cell_type": "code",
   "execution_count": null,
   "metadata": {},
   "outputs": [],
   "source": [
    "from math import sqrt\n",
    "\n",
    "diccionario = {1:sqrt(1), 2:sqrt(2) , 3:sqrt(3) , 4:sqrt(4) , 5:sqrt(5), 6:sqrt(6) , 7:sqrt(7),8:sqrt(8),9:sqrt(9),10:sqrt(10)}\n",
    "\n",
    "print(diccionario)\n",
    "\n"
   ]
  },
  {
   "cell_type": "code",
   "execution_count": null,
   "metadata": {},
   "outputs": [],
   "source": [
    "frase_teclado = input(\"Dime una frase->\")\n",
    "\n",
    "nueva_frase_teclado = frase_teclado.title()\n",
    "\n",
    "print(nueva_frase_teclado)"
   ]
  },
  {
   "cell_type": "code",
   "execution_count": 23,
   "metadata": {},
   "outputs": [
    {
     "name": "stdout",
     "output_type": "stream",
     "text": [
      "0.0\n",
      "-0.5\n"
     ]
    }
   ],
   "source": [
    "from math import sqrt\n",
    "def ecuacion(a,b,c):\n",
    "    power = pow(b,2 - (4*a*c))\n",
    "    r1 = (-b + sqrt(power))/(2*a)\n",
    "    r2 = (-b - sqrt(power))/(2*a)\n",
    "    return r1,r2\n",
    "\n",
    "r1,r2 = ecuacion(2,1,5)\n",
    "print(r1)\n",
    "print(r2)"
   ]
  },
  {
   "cell_type": "code",
   "execution_count": 31,
   "metadata": {},
   "outputs": [],
   "source": [
    "lista = [\"Fran\",\"Maga\",\"Nico\",\"Caio\",\"Mariana\"]"
   ]
  },
  {
   "cell_type": "code",
   "execution_count": 32,
   "metadata": {},
   "outputs": [],
   "source": [
    "lista.sort()          # Te lo ordena de forma alfabética"
   ]
  },
  {
   "cell_type": "code",
   "execution_count": 33,
   "metadata": {},
   "outputs": [
    {
     "data": {
      "text/plain": [
       "['Caio', 'Fran', 'Maga', 'Mariana', 'Nico']"
      ]
     },
     "execution_count": 33,
     "metadata": {},
     "output_type": "execute_result"
    }
   ],
   "source": [
    "lista"
   ]
  },
  {
   "cell_type": "code",
   "execution_count": 34,
   "metadata": {},
   "outputs": [],
   "source": [
    "nueva_lista = lista.sort()"
   ]
  },
  {
   "cell_type": "code",
   "execution_count": 35,
   "metadata": {},
   "outputs": [
    {
     "name": "stdout",
     "output_type": "stream",
     "text": [
      "None\n"
     ]
    }
   ],
   "source": [
    "print(nueva_lista)"
   ]
  },
  {
   "cell_type": "code",
   "execution_count": null,
   "metadata": {},
   "outputs": [],
   "source": [
    "lista_nueva = []\n",
    "for elementos in lista:\n",
    "    for caracteres in elementos:\n",
    "        \n",
    "        lista_nueva.append(lista)\n",
    "print(lista_nueva)\n",
    "    "
   ]
  },
  {
   "cell_type": "code",
   "execution_count": null,
   "metadata": {},
   "outputs": [],
   "source": [
    "lista.sort(reverse=True)     # Forma alfabética invertida\n",
    "lista"
   ]
  },
  {
   "cell_type": "code",
   "execution_count": null,
   "metadata": {},
   "outputs": [],
   "source": [
    "print(help(lista.sort))"
   ]
  },
  {
   "cell_type": "code",
   "execution_count": 18,
   "metadata": {},
   "outputs": [
    {
     "name": "stdout",
     "output_type": "stream",
     "text": [
      "La claves presentes en ambos diccionario son:\n",
      "['Fran', 'Juampi']\n"
     ]
    }
   ],
   "source": [
    "\n",
    "def claves_presentes(d1,d2):\n",
    "    claves_presentes = []\n",
    "    for i in d1:\n",
    "        if i in d2:\n",
    "            claves_presentes.append(i)\n",
    "    return claves_presentes\n",
    "    \n",
    "diccionario_1 = {\"Fran\":21,\"Nico\":19,\"Juan\":22,\"Juampi\":20}\n",
    "diccionario_2 = {\"Fran\":21,\"Juampi\":20,\"Maga\":19,\"Mariana\":39}\n",
    "\n",
    "print(\"La claves presentes en ambos diccionario son:\")\n",
    "print(claves_presentes(diccionario_1,diccionario_2))\n",
    "\n",
    "\n",
    "\n",
    "        "
   ]
  },
  {
   "cell_type": "code",
   "execution_count": null,
   "metadata": {},
   "outputs": [],
   "source": [
    "def cifrado_cesar(texto,avance):\n",
    "    alfabeto = \"abcdefghijklnmopqrsuvwxyz\"\n",
    "    nuevo_alfabeto = \"\"\n",
    "    maximo = len(alfabeto)\n",
    "    posicion = 0\n",
    "    for letra in texto:\n",
    "        for i in range(len(alfabeto)):\n",
    "            if i + avance < maximo:\n",
    "                posicion = i + avance\n",
    "            else:\n",
    "                posicion = (maximo -i) - avance\n",
    "            if letra == alfabeto[i]:\n",
    "                nuevo_alfabeto += alfabeto[posicion]\n",
    "             \n",
    "        \n",
    "    return nuevo_alfabeto\n",
    "     \n",
    "letra1 = input(\"Dime un texto->\").lower() \n",
    "rotacion= int(input(\"Digite el número de avance del alfabeto->\"))\n",
    "print(cifrado_cesar(letra1,rotacion))"
   ]
  },
  {
   "cell_type": "code",
   "execution_count": null,
   "metadata": {},
   "outputs": [],
   "source": []
  },
  {
   "cell_type": "code",
   "execution_count": null,
   "metadata": {},
   "outputs": [],
   "source": [
    "letras = \"abcdefghi\""
   ]
  },
  {
   "cell_type": "code",
   "execution_count": null,
   "metadata": {},
   "outputs": [],
   "source": [
    "for i in range(len(letras)):\n",
    "    print(i)\n"
   ]
  },
  {
   "cell_type": "code",
   "execution_count": null,
   "metadata": {},
   "outputs": [],
   "source": []
  },
  {
   "cell_type": "code",
   "execution_count": 2,
   "metadata": {},
   "outputs": [],
   "source": [
    "def claves_diccionario(clave,valor):\n",
    "        diccionario = {clave:valor}\n",
    "        nuevo_diccionario = diccionario.keys()\n",
    "        return nuevo_diccionario"
   ]
  },
  {
   "cell_type": "code",
   "execution_count": 9,
   "metadata": {},
   "outputs": [],
   "source": [
    "def claves_diccionario(clave,valor):\n",
    "        diccionario = {clave:valor}\n",
    "        nuevo_diccionario =diccionario.keys()\n",
    "        return nuevo_diccionario "
   ]
  },
  {
   "cell_type": "code",
   "execution_count": 10,
   "metadata": {},
   "outputs": [
    {
     "name": "stdout",
     "output_type": "stream",
     "text": [
      "dict_keys(['Fran'])\n"
     ]
    }
   ],
   "source": [
    "c1 = \"Fran\"\n",
    "v1 = 21\n",
    "\n",
    "print(claves_diccionario(c1,v1))"
   ]
  },
  {
   "cell_type": "code",
   "execution_count": 11,
   "metadata": {},
   "outputs": [
    {
     "ename": "NameError",
     "evalue": "name 'clave_diccionario' is not defined",
     "output_type": "error",
     "traceback": [
      "\u001b[1;31m---------------------------------------------------------------------------\u001b[0m",
      "\u001b[1;31mNameError\u001b[0m                                 Traceback (most recent call last)",
      "\u001b[1;32m<ipython-input-11-a2cbe356ddbb>\u001b[0m in \u001b[0;36m<module>\u001b[1;34m\u001b[0m\n\u001b[1;32m----> 1\u001b[1;33m \u001b[1;32mfor\u001b[0m \u001b[0mi\u001b[0m \u001b[1;32min\u001b[0m \u001b[0mclave_diccionario\u001b[0m\u001b[1;33m(\u001b[0m\u001b[0mc1\u001b[0m\u001b[1;33m,\u001b[0m\u001b[0mv1\u001b[0m\u001b[1;33m)\u001b[0m\u001b[1;33m:\u001b[0m\u001b[1;33m\u001b[0m\u001b[1;33m\u001b[0m\u001b[0m\n\u001b[0m\u001b[0;32m      2\u001b[0m     \u001b[0mprint\u001b[0m\u001b[1;33m(\u001b[0m\u001b[0mi\u001b[0m\u001b[1;33m)\u001b[0m\u001b[1;33m\u001b[0m\u001b[1;33m\u001b[0m\u001b[0m\n",
      "\u001b[1;31mNameError\u001b[0m: name 'clave_diccionario' is not defined"
     ]
    }
   ],
   "source": [
    "for i in clave_diccionario(c1,v1):\n",
    "    print(i)\n"
   ]
  },
  {
   "cell_type": "code",
   "execution_count": 21,
   "metadata": {},
   "outputs": [
    {
     "name": "stdout",
     "output_type": "stream",
     "text": [
      "Dime una palabra->fran\n",
      "La palabra FRAN en codigo Morse es:\n",
      "· · — ·· — ··—— ·\n"
     ]
    }
   ],
   "source": [
    "\n",
    "diccionario = {\"A\":\"·—\",\n",
    "              \"B\":\"— · · ·\",\n",
    "              \"C\":\"— · — ·\",\n",
    "              \"CH\":\"— — — —\",\n",
    "              \"D\":\"— · ·\",\n",
    "              \"E\":\"·\",\n",
    "              \"F\":\"· · — ·\",\n",
    "              \"G\":\"— — ·\",\n",
    "              \"H\":\"· · · ·\",\n",
    "              \"I\":\"· ·\",\n",
    "              \"J\":\"· — — —\",\n",
    "              \"K\":\"— · —\",\n",
    "              \"L\":\"· — · ·\",\n",
    "              \"M\":\"— —\",\n",
    "              \"N\":\"— ·\",\n",
    "              \"Ñ\":\"— — · — —\",\n",
    "              \"O\":\"— — —\",\n",
    "              \"P\":\"· — — ·\",\n",
    "              \"Q\":\"— — · —\",\n",
    "              \"R\":\"· — ·\",\n",
    "              \"S\":\"· · ·\",\n",
    "              \"T\":\"—\",\n",
    "              \"U\":\"· · —\",\n",
    "              \"V\":\"· · · —\",\n",
    "              \"W\":\"· — —\",\n",
    "              \"X\":\"— · · —\",\n",
    "              \"Y\":\"— · — —\",\n",
    "              \"Z\":\"— — · ·\"}\n",
    "\n",
    "def codigo_morse(palabra):\n",
    "    palabra_morse = \"\"\n",
    "    for letra in palabra:\n",
    "        if letra in diccionario:\n",
    "            palabra_morse += diccionario[letra]\n",
    "        \n",
    "    return palabra_morse\n",
    "\n",
    "palabra_usuario = input(\"Dime una palabra->\").upper()\n",
    "print(\"La palabra\",palabra_usuario,\"en codigo Morse es:\")\n",
    "print(codigo_morse(palabra_usuario))\n",
    "\n",
    "\n"
   ]
  },
  {
   "cell_type": "code",
   "execution_count": 24,
   "metadata": {},
   "outputs": [
    {
     "name": "stdout",
     "output_type": "stream",
     "text": [
      "Dime un número->60\n",
      "Dime otro número->48\n",
      " El máximo común divisor entre 60 y 48 es:\n",
      "12\n"
     ]
    }
   ],
   "source": [
    "def mcd(n1,n2):\n",
    "\n",
    "        ''' Función que devuelve el máximo común divisor entre dos números'''\n",
    "\n",
    "        while n1 % n2 != 0:\n",
    "\n",
    "             n1,n2 = n2 , n1%n2\n",
    "\n",
    "        return n2\n",
    "\n",
    "numero_1 = int(input(\"Dime un número->\"))\n",
    "\n",
    "numero_2 = int(input(\"Dime otro número->\"))\n",
    "\n",
    "print(\"El máximo común divisor entre\",numero_1,\"y\",numero_2,\"es:\")\n",
    "\n",
    "print(mcd(numero_1,numero_2))\n",
    "\n"
   ]
  },
  {
   "cell_type": "code",
   "execution_count": 36,
   "metadata": {},
   "outputs": [
    {
     "ename": "SyntaxError",
     "evalue": "invalid syntax (<ipython-input-36-21ccce9e29b1>, line 2)",
     "output_type": "error",
     "traceback": [
      "\u001b[1;36m  File \u001b[1;32m\"<ipython-input-36-21ccce9e29b1>\"\u001b[1;36m, line \u001b[1;32m2\u001b[0m\n\u001b[1;33m    nueva_ lista = lista.sort()\u001b[0m\n\u001b[1;37m               ^\u001b[0m\n\u001b[1;31mSyntaxError\u001b[0m\u001b[1;31m:\u001b[0m invalid syntax\n"
     ]
    }
   ],
   "source": [
    "lista = [1,2,3,4,0]\n",
    "nueva_ lista = lista.sort()\n",
    "print(nueva_lista)"
   ]
  },
  {
   "cell_type": "code",
   "execution_count": null,
   "metadata": {},
   "outputs": [],
   "source": []
  }
 ],
 "metadata": {
  "kernelspec": {
   "display_name": "Python 3",
   "language": "python",
   "name": "python3"
  },
  "language_info": {
   "codemirror_mode": {
    "name": "ipython",
    "version": 3
   },
   "file_extension": ".py",
   "mimetype": "text/x-python",
   "name": "python",
   "nbconvert_exporter": "python",
   "pygments_lexer": "ipython3",
   "version": "3.7.6"
  }
 },
 "nbformat": 4,
 "nbformat_minor": 4
}
